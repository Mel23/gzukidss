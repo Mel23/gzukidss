{
 "cells": [
  {
   "cell_type": "code",
   "execution_count": 3,
   "metadata": {
    "collapsed": true
   },
   "outputs": [],
   "source": [
    "# read in debiased table, change blank debiased votes to weighted \n",
    "\n",
    "from astropy.table import Table,Column"
   ]
  },
  {
   "cell_type": "code",
   "execution_count": 67,
   "metadata": {
    "collapsed": false
   },
   "outputs": [],
   "source": [
    "data = Table.read('../../../data/ukidss_weighted_and_meta_debiasing_input.fits')"
   ]
  },
  {
   "cell_type": "code",
   "execution_count": 28,
   "metadata": {
    "collapsed": false
   },
   "outputs": [
    {
     "name": "stdout",
     "output_type": "stream",
     "text": [
      "\n"
     ]
    }
   ],
   "source": [
    "questions = ['t00_smooth_or_features'\n",
    "     ,'t01_disk_edge_on'\n",
    "     ,'t02_bar'\n",
    "     ,'t03_spiral'\n",
    "     ,'t04_bulge_prominence'\n",
    "     ,'t07_rounded'\n",
    "     ,'t08_bulge_shape'\n",
    "     ,'t09_arms_winding'\n",
    "     ,'t10_arms_number']\n",
    "answers = [['a0_smooth','a1_features','a2_artifact']\n",
    "     ,['a0_yes','a1_no']\n",
    "     ,['a0_bar','a1_no_bar']\n",
    "     ,['a0_spiral','a1_no_spiral']\n",
    "     ,['a0_no_bulge','a1_just_noticeable','a2_obvious','a3_dominant']\n",
    "     ,['a0_completely_round','a1_in_between','a2_cigar_shaped']\n",
    "     ,['a0_rounded','a1_boxy','a2_no_bulge']\n",
    "     ,['a0_tight','a1_medium','a2_loose']\n",
    "     ,['a0_1','a1_2','a2_3','a3_4','a4_more_than_4','a5_cant_tell']]"
   ]
  },
  {
   "cell_type": "code",
   "execution_count": 29,
   "metadata": {
    "collapsed": false
   },
   "outputs": [],
   "source": [
    "#make dictionary of questions/answers\n",
    "task={}\n",
    "for a,question in enumerate(questions):\n",
    "    task[question]=[]\n",
    "    for answer in answers[a]:\n",
    "        task[question].append(answer)"
   ]
  },
  {
   "cell_type": "code",
   "execution_count": 68,
   "metadata": {
    "collapsed": false
   },
   "outputs": [],
   "source": [
    "for gal in data: #for every row in table\n",
    "    for question in task: #for every question in tree\n",
    "        for answer in task[question]: #for each possible answer\n",
    "            debiased_colname = question+'_'+answer+'_debiased_rh'\n",
    "            if math.isnan(gal[debiased_colname]): #didn't get debised, no value. replace with weighted fraction.\n",
    "                weighted_colname = question+'_'+answer+'_weighted_fraction'\n",
    "                gal[debiased_colname]=gal[weighted_colname]\n",
    "                \n",
    "for question in task: #for every question in tree\n",
    "    for answer in task[question]: #for each possible answer\n",
    "\n",
    "        norm_colname = question+'_'+answer+'_debiased_rh_normalised' #remove these, useless\n",
    "        data.remove_column(norm_colname)"
   ]
  },
  {
   "cell_type": "code",
   "execution_count": 69,
   "metadata": {
    "collapsed": false
   },
   "outputs": [
    {
     "data": {
      "text/html": [
       "&lt;Row index=0 masked=True&gt;\n",
       "<table id=\"table140470323827280\">\n",
       "<thead><tr><th>dr7objid</th><th>dr8objid</th><th>petrorad_r</th><th>Ymag</th><th>e_Ymag</th><th>Jmag</th><th>e_Jmag</th><th>Hmag</th><th>e_Hmag</th><th>Kmag</th><th>e_Kmag</th><th>RA</th><th>DEC</th><th>UKIDSS_url</th><th>GZ2_url</th><th>subject_id</th><th>t00_smooth_or_features_a0_smooth_weighted_fraction</th><th>t00_smooth_or_features_a1_features_weighted_fraction</th><th>t00_smooth_or_features_a2_artifact_weighted_fraction</th><th>t00_smooth_or_features_count_weighted</th><th>t01_disk_edge_on_a0_yes_weighted_fraction</th><th>t01_disk_edge_on_a1_no_weighted_fraction</th><th>t01_disk_edge_on_count_weighted</th><th>t02_bar_a0_bar_weighted_fraction</th><th>t02_bar_a1_no_bar_weighted_fraction</th><th>t02_bar_count_weighted</th><th>t03_spiral_a0_spiral_weighted_fraction</th><th>t03_spiral_a1_no_spiral_weighted_fraction</th><th>t03_spiral_count_weighted</th><th>t04_bulge_prominence_a0_no_bulge_weighted_fraction</th><th>t04_bulge_prominence_a1_just_noticeable_weighted_fraction</th><th>t04_bulge_prominence_a2_obvious_weighted_fraction</th><th>t04_bulge_prominence_a3_dominant_weighted_fraction</th><th>t04_bulge_prominence_count_weighted</th><th>t05_odd_a0_yes_weighted_fraction</th><th>t05_odd_a1_no_weighted_fraction</th><th>t05_odd_count_weighted</th><th>t06_odd_feature_x0_ring_weighted_fraction</th><th>t06_odd_feature_x1_lens_weighted_fraction</th><th>t06_odd_feature_x2_disturbed_weighted_fraction</th><th>t06_odd_feature_x3_irregular_weighted_fraction</th><th>t06_odd_feature_x4_other_weighted_fraction</th><th>t06_odd_feature_x5_merger_weighted_fraction</th><th>t06_odd_feature_x6_dustlane_weighted_fraction</th><th>t06_odd_feature_a0_discuss_weighted_fraction</th><th>t06_odd_feature_count_weighted</th><th>t07_rounded_a0_completely_round_weighted_fraction</th><th>t07_rounded_a1_in_between_weighted_fraction</th><th>t07_rounded_a2_cigar_shaped_weighted_fraction</th><th>t07_rounded_count_weighted</th><th>t08_bulge_shape_a0_rounded_weighted_fraction</th><th>t08_bulge_shape_a1_boxy_weighted_fraction</th><th>t08_bulge_shape_a2_no_bulge_weighted_fraction</th><th>t08_bulge_shape_count_weighted</th><th>t09_arms_winding_a0_tight_weighted_fraction</th><th>t09_arms_winding_a1_medium_weighted_fraction</th><th>t09_arms_winding_a2_loose_weighted_fraction</th><th>t09_arms_winding_count_weighted</th><th>t10_arms_number_a0_1_weighted_fraction</th><th>t10_arms_number_a1_2_weighted_fraction</th><th>t10_arms_number_a2_3_weighted_fraction</th><th>t10_arms_number_a3_4_weighted_fraction</th><th>t10_arms_number_a4_more_than_4_weighted_fraction</th><th>t10_arms_number_a5_cant_tell_weighted_fraction</th><th>t10_arms_number_count_weighted</th><th>t11_discuss_a0_yes_weighted_fraction</th><th>t11_discuss_a1_no_weighted_fraction</th><th>t11_discuss_count_weighted</th><th>PETROR50_R</th><th>PETROR90_R</th><th>PETROMAG_U</th><th>PETROMAG_G</th><th>PETROMAG_R</th><th>PETROMAG_I</th><th>PETROMAG_Z</th><th>PETROMAGERR_U</th><th>PETROMAGERR_G</th><th>PETROMAGERR_R</th><th>PETROMAGERR_I</th><th>PETROMAGERR_Z</th><th>PSFMAG_R</th><th>FIBERMAG_R</th><th>DEVMAG_R</th><th>DEVMAGERR_R</th><th>EXPMAG_R</th><th>EXPMAGERR_R</th><th>FRACDEV_R</th><th>MU50_R</th><th>EXTINCTION_U</th><th>EXTINCTION_G</th><th>EXTINCTION_R</th><th>EXTINCTION_I</th><th>EXTINCTION_Z</th><th>CMODELMAG_R</th><th>CMODELMAGERR_R</th><th>REDSHIFT_1</th><th>REDSHIFTERR</th><th>PETROMAG_MU</th><th>PETROMAG_MG</th><th>PETROMAG_MR</th><th>PETROMAG_MI</th><th>PETROMAG_MZ</th><th>PETROMAGERR_MU</th><th>PETROMAGERR_MG</th><th>PETROMAGERR_MR</th><th>PETROMAGERR_MI</th><th>PETROMAGERR_MZ</th><th>PETROR50_R_KPC</th><th>in_volume_limit</th><th>t00_smooth_or_features_a0_smooth_debiased_rh</th><th>t00_smooth_or_features_a1_features_debiased_rh</th><th>t00_smooth_or_features_a2_artifact_debiased_rh</th><th>t01_disk_edge_on_a0_yes_debiased_rh</th><th>t01_disk_edge_on_a1_no_debiased_rh</th><th>t07_rounded_a0_completely_round_debiased_rh</th><th>t07_rounded_a1_in_between_debiased_rh</th><th>t07_rounded_a2_cigar_shaped_debiased_rh</th><th>t03_spiral_a0_spiral_debiased_rh</th><th>t03_spiral_a1_no_spiral_debiased_rh</th><th>t08_bulge_shape_a0_rounded_debiased_rh</th><th>t08_bulge_shape_a1_boxy_debiased_rh</th><th>t08_bulge_shape_a2_no_bulge_debiased_rh</th><th>t04_bulge_prominence_a0_no_bulge_debiased_rh</th><th>t04_bulge_prominence_a1_just_noticeable_debiased_rh</th><th>t04_bulge_prominence_a2_obvious_debiased_rh</th><th>t04_bulge_prominence_a3_dominant_debiased_rh</th><th>t09_arms_winding_a0_tight_debiased_rh</th><th>t09_arms_winding_a1_medium_debiased_rh</th><th>t09_arms_winding_a2_loose_debiased_rh</th><th>t10_arms_number_a0_1_debiased_rh</th><th>t10_arms_number_a1_2_debiased_rh</th><th>t10_arms_number_a2_3_debiased_rh</th><th>t10_arms_number_a3_4_debiased_rh</th><th>t10_arms_number_a4_more_than_4_debiased_rh</th><th>t10_arms_number_a5_cant_tell_debiased_rh</th><th>t02_bar_a0_bar_debiased_rh</th><th>t02_bar_a1_no_bar_debiased_rh</th></tr></thead>\n",
       "<thead><tr><th>int64</th><th>str19</th><th>float64</th><th>float32</th><th>float32</th><th>float32</th><th>float32</th><th>float32</th><th>float32</th><th>float32</th><th>float32</th><th>float64</th><th>float64</th><th>str88</th><th>str158</th><th>str24</th><th>float64</th><th>float64</th><th>float64</th><th>float64</th><th>float64</th><th>float64</th><th>float64</th><th>float64</th><th>float64</th><th>float64</th><th>float64</th><th>float64</th><th>float64</th><th>float64</th><th>float64</th><th>float64</th><th>float64</th><th>float64</th><th>float64</th><th>float64</th><th>float64</th><th>float64</th><th>float64</th><th>float64</th><th>float64</th><th>float64</th><th>float64</th><th>float64</th><th>float64</th><th>float64</th><th>float64</th><th>float64</th><th>float64</th><th>float64</th><th>float64</th><th>float64</th><th>float64</th><th>float64</th><th>float64</th><th>float64</th><th>float64</th><th>float64</th><th>float64</th><th>float64</th><th>float64</th><th>float64</th><th>float64</th><th>float64</th><th>float64</th><th>float64</th><th>float64</th><th>float64</th><th>float64</th><th>float64</th><th>float64</th><th>float64</th><th>float64</th><th>float64</th><th>float64</th><th>float64</th><th>float64</th><th>float64</th><th>float64</th><th>float64</th><th>float64</th><th>float64</th><th>float64</th><th>float64</th><th>float64</th><th>float64</th><th>float64</th><th>float64</th><th>float64</th><th>float64</th><th>float64</th><th>float64</th><th>float64</th><th>float64</th><th>float64</th><th>float64</th><th>float64</th><th>float64</th><th>float64</th><th>float64</th><th>float64</th><th>float64</th><th>float64</th><th>float64</th><th>float64</th><th>float64</th><th>float64</th><th>float64</th><th>int16</th><th>float64</th><th>float64</th><th>float64</th><th>float64</th><th>float64</th><th>float64</th><th>float64</th><th>float64</th><th>float64</th><th>float64</th><th>float64</th><th>float64</th><th>float64</th><th>float64</th><th>float64</th><th>float64</th><th>float64</th><th>float64</th><th>float64</th><th>float64</th><th>float64</th><th>float64</th><th>float64</th><th>float64</th><th>float64</th><th>float64</th><th>float64</th><th>float64</th></tr></thead>\n",
       "<tr><td>587722982290489555</td><td>1237648703515394249</td><td>4.372577</td><td>17.309</td><td>0.014</td><td>16.808</td><td>0.012</td><td>16.073</td><td>0.016</td><td>15.789</td><td>0.023</td><td>210.915161133</td><td>-0.786143422127</td><td>http://www.galaxyzoo.org.s3.amazonaws.com/subjects/standard/524482ba3ae74054bf00014c.jpg</td><td>http://skyservice.pha.jhu.edu/DR7/ImgCutout/getjpeg.aspx?ra=210.915161133&amp;dec=-0.786143422127&amp;scale=0.25&amp;width=512&amp;height=512&amp;opt=GL&amp;query=&amp;Grid=on&amp;Label=on</td><td>524482ba3ae74054bf00014c</td><td>0.861238402603</td><td>0.0</td><td>0.138761597397</td><td>37.1557978642</td><td>0.0</td><td>0.0</td><td>0.0</td><td>0.0</td><td>0.0</td><td>0.0</td><td>0.0</td><td>0.0</td><td>0.0</td><td>0.0</td><td>0.0</td><td>0.0</td><td>0.0</td><td>0.0</td><td>0.0</td><td>1.0</td><td>32.0</td><td>0.0</td><td>0.0</td><td>0.0</td><td>0.0</td><td>0.0</td><td>0.0</td><td>0.0</td><td>0.0</td><td>0.0</td><td>0.9375</td><td>0.0625</td><td>0.0</td><td>32.0</td><td>0.0</td><td>0.0</td><td>0.0</td><td>0.0</td><td>0.0</td><td>0.0</td><td>0.0</td><td>0.0</td><td>0.0</td><td>0.0</td><td>0.0</td><td>0.0</td><td>0.0</td><td>0.0</td><td>0.0</td><td>0.0</td><td>1.0</td><td>37.1557978642</td><td>1.95235800743</td><td>6.24866437912</td><td>19.9197826385</td><td>18.0145568848</td><td>17.0273189545</td><td>16.5975532532</td><td>16.2392196655</td><td>0.161375537515</td><td>0.0154147744179</td><td>0.01248161681</td><td>0.0118399159983</td><td>0.0212802756578</td><td>18.2313041687</td><td>18.2057189941</td><td>16.940580368</td><td>0.00502340495586</td><td>17.3214912415</td><td>0.0052025760524</td><td>1.0</td><td>20.4755649567</td><td>0.251813948154</td><td>0.185282319784</td><td>0.13438218832</td><td>0.10189794749</td><td>0.0722469165921</td><td>16.940580368</td><td>0.00502340495586</td><td>0.106381997466</td><td>0.000160687006428</td><td>-19.2064342499</td><td>-20.9506397247</td><td>-21.6922206879</td><td>-22.0264873505</td><td>-22.3161945343</td><td>0.162644222379</td><td>0.0183743499219</td><td>0.0159934703261</td><td>0.0154978688806</td><td>0.0235129483044</td><td>3.80262470245</td><td>1</td><td>0.738054733683</td><td>0.0</td><td>0.1</td><td>0.0</td><td>0.0</td><td>0.871999205032</td><td>0.110736104062</td><td>0.0</td><td>0.0</td><td>0.0</td><td>0.0</td><td>0.0</td><td>0.0</td><td>0.0</td><td>0.0</td><td>0.0</td><td>0.0</td><td>0.0</td><td>0.0</td><td>0.0</td><td>0.0</td><td>0.0</td><td>0.0</td><td>0.0</td><td>0.0</td><td>0.0</td><td>0.0</td><td>0.0</td></tr>\n",
       "</table>"
      ],
      "text/plain": [
       "<Row index=0 masked=True>\n",
       "     dr7objid            dr8objid      petrorad_r   Ymag   e_Ymag   Jmag   e_Jmag   Hmag   e_Hmag   Kmag   e_Kmag       RA            DEC                                              UKIDSS_url                                                                                                                   GZ2_url                                                                                    subject_id        t00_smooth_or_features_a0_smooth_weighted_fraction t00_smooth_or_features_a1_features_weighted_fraction t00_smooth_or_features_a2_artifact_weighted_fraction t00_smooth_or_features_count_weighted t01_disk_edge_on_a0_yes_weighted_fraction t01_disk_edge_on_a1_no_weighted_fraction t01_disk_edge_on_count_weighted t02_bar_a0_bar_weighted_fraction t02_bar_a1_no_bar_weighted_fraction t02_bar_count_weighted t03_spiral_a0_spiral_weighted_fraction t03_spiral_a1_no_spiral_weighted_fraction t03_spiral_count_weighted t04_bulge_prominence_a0_no_bulge_weighted_fraction t04_bulge_prominence_a1_just_noticeable_weighted_fraction t04_bulge_prominence_a2_obvious_weighted_fraction t04_bulge_prominence_a3_dominant_weighted_fraction t04_bulge_prominence_count_weighted t05_odd_a0_yes_weighted_fraction t05_odd_a1_no_weighted_fraction t05_odd_count_weighted t06_odd_feature_x0_ring_weighted_fraction t06_odd_feature_x1_lens_weighted_fraction t06_odd_feature_x2_disturbed_weighted_fraction t06_odd_feature_x3_irregular_weighted_fraction t06_odd_feature_x4_other_weighted_fraction t06_odd_feature_x5_merger_weighted_fraction t06_odd_feature_x6_dustlane_weighted_fraction t06_odd_feature_a0_discuss_weighted_fraction t06_odd_feature_count_weighted t07_rounded_a0_completely_round_weighted_fraction t07_rounded_a1_in_between_weighted_fraction t07_rounded_a2_cigar_shaped_weighted_fraction t07_rounded_count_weighted t08_bulge_shape_a0_rounded_weighted_fraction t08_bulge_shape_a1_boxy_weighted_fraction t08_bulge_shape_a2_no_bulge_weighted_fraction t08_bulge_shape_count_weighted t09_arms_winding_a0_tight_weighted_fraction t09_arms_winding_a1_medium_weighted_fraction t09_arms_winding_a2_loose_weighted_fraction t09_arms_winding_count_weighted t10_arms_number_a0_1_weighted_fraction t10_arms_number_a1_2_weighted_fraction t10_arms_number_a2_3_weighted_fraction t10_arms_number_a3_4_weighted_fraction t10_arms_number_a4_more_than_4_weighted_fraction t10_arms_number_a5_cant_tell_weighted_fraction t10_arms_number_count_weighted t11_discuss_a0_yes_weighted_fraction t11_discuss_a1_no_weighted_fraction t11_discuss_count_weighted   PETROR50_R    PETROR90_R    PETROMAG_U    PETROMAG_G    PETROMAG_R    PETROMAG_I    PETROMAG_Z  PETROMAGERR_U   PETROMAGERR_G  PETROMAGERR_R  PETROMAGERR_I   PETROMAGERR_Z     PSFMAG_R     FIBERMAG_R    DEVMAG_R     DEVMAGERR_R       EXPMAG_R     EXPMAGERR_R   FRACDEV_R     MU50_R     EXTINCTION_U   EXTINCTION_G   EXTINCTION_R  EXTINCTION_I   EXTINCTION_Z  CMODELMAG_R   CMODELMAGERR_R    REDSHIFT_1      REDSHIFTERR     PETROMAG_MU    PETROMAG_MG    PETROMAG_MR    PETROMAG_MI    PETROMAG_MZ   PETROMAGERR_MU  PETROMAGERR_MG  PETROMAGERR_MR  PETROMAGERR_MI  PETROMAGERR_MZ PETROR50_R_KPC in_volume_limit t00_smooth_or_features_a0_smooth_debiased_rh t00_smooth_or_features_a1_features_debiased_rh t00_smooth_or_features_a2_artifact_debiased_rh t01_disk_edge_on_a0_yes_debiased_rh t01_disk_edge_on_a1_no_debiased_rh t07_rounded_a0_completely_round_debiased_rh t07_rounded_a1_in_between_debiased_rh t07_rounded_a2_cigar_shaped_debiased_rh t03_spiral_a0_spiral_debiased_rh t03_spiral_a1_no_spiral_debiased_rh t08_bulge_shape_a0_rounded_debiased_rh t08_bulge_shape_a1_boxy_debiased_rh t08_bulge_shape_a2_no_bulge_debiased_rh t04_bulge_prominence_a0_no_bulge_debiased_rh t04_bulge_prominence_a1_just_noticeable_debiased_rh t04_bulge_prominence_a2_obvious_debiased_rh t04_bulge_prominence_a3_dominant_debiased_rh t09_arms_winding_a0_tight_debiased_rh t09_arms_winding_a1_medium_debiased_rh t09_arms_winding_a2_loose_debiased_rh t10_arms_number_a0_1_debiased_rh t10_arms_number_a1_2_debiased_rh t10_arms_number_a2_3_debiased_rh t10_arms_number_a3_4_debiased_rh t10_arms_number_a4_more_than_4_debiased_rh t10_arms_number_a5_cant_tell_debiased_rh t02_bar_a0_bar_debiased_rh t02_bar_a1_no_bar_debiased_rh\n",
       "      int64               str19         float64   float32 float32 float32 float32 float32 float32 float32 float32    float64        float64                                              str88                                                                                                                       str158                                                                                      str24                                float64                                             float64                                              float64                                       float64                                 float64                                  float64                              float64                         float64                            float64                      float64                        float64                                  float64                           float64                               float64                                                float64                                               float64                                           float64                                     float64                           float64                          float64                    float64                          float64                                   float64                                     float64                                        float64                                      float64                                     float64                                      float64                                      float64                               float64                                  float64                                        float64                                      float64                             float64                             float64                                     float64                                     float64                               float64                               float64                                     float64                                      float64                               float64                            float64                                float64                                float64                                float64                                     float64                                         float64                                float64                           float64                              float64                        float64              float64       float64       float64       float64       float64       float64       float64       float64         float64        float64        float64         float64        float64       float64      float64        float64         float64        float64      float64     float64       float64        float64        float64       float64        float64       float64        float64         float64          float64         float64        float64        float64        float64        float64        float64         float64         float64         float64         float64        float64          int16                        float64                                       float64                                        float64                                   float64                            float64                                 float64                                  float64                                float64                             float64                            float64                              float64                               float64                               float64                                   float64                                          float64                                         float64                                     float64                                   float64                               float64                                float64                            float64                          float64                          float64                          float64                               float64                                   float64                           float64                      float64           \n",
       "------------------ ------------------- ---------- ------- ------- ------- ------- ------- ------- ------- ------- ------------- --------------- ---------------------------------------------------------------------------------------- -------------------------------------------------------------------------------------------------------------------------------------------------------------- ------------------------ -------------------------------------------------- ---------------------------------------------------- ---------------------------------------------------- ------------------------------------- ----------------------------------------- ---------------------------------------- ------------------------------- -------------------------------- ----------------------------------- ---------------------- -------------------------------------- ----------------------------------------- ------------------------- -------------------------------------------------- --------------------------------------------------------- ------------------------------------------------- -------------------------------------------------- ----------------------------------- -------------------------------- ------------------------------- ---------------------- ----------------------------------------- ----------------------------------------- ---------------------------------------------- ---------------------------------------------- ------------------------------------------ ------------------------------------------- --------------------------------------------- -------------------------------------------- ------------------------------ ------------------------------------------------- ------------------------------------------- --------------------------------------------- -------------------------- -------------------------------------------- ----------------------------------------- --------------------------------------------- ------------------------------ ------------------------------------------- -------------------------------------------- ------------------------------------------- ------------------------------- -------------------------------------- -------------------------------------- -------------------------------------- -------------------------------------- ------------------------------------------------ ---------------------------------------------- ------------------------------ ------------------------------------ ----------------------------------- -------------------------- ------------- ------------- ------------- ------------- ------------- ------------- ------------- -------------- --------------- ------------- --------------- --------------- ------------- ------------- ------------ ---------------- ------------- --------------- --------- ------------- -------------- -------------- ------------- ------------- --------------- ------------ ---------------- -------------- ----------------- -------------- -------------- -------------- -------------- -------------- -------------- --------------- --------------- --------------- --------------- -------------- --------------- -------------------------------------------- ---------------------------------------------- ---------------------------------------------- ----------------------------------- ---------------------------------- ------------------------------------------- ------------------------------------- --------------------------------------- -------------------------------- ----------------------------------- -------------------------------------- ----------------------------------- --------------------------------------- -------------------------------------------- --------------------------------------------------- ------------------------------------------- -------------------------------------------- ------------------------------------- -------------------------------------- ------------------------------------- -------------------------------- -------------------------------- -------------------------------- -------------------------------- ------------------------------------------ ---------------------------------------- -------------------------- -----------------------------\n",
       "587722982290489555 1237648703515394249   4.372577  17.309   0.014  16.808   0.012  16.073   0.016  15.789   0.023 210.915161133 -0.786143422127 http://www.galaxyzoo.org.s3.amazonaws.com/subjects/standard/524482ba3ae74054bf00014c.jpg http://skyservice.pha.jhu.edu/DR7/ImgCutout/getjpeg.aspx?ra=210.915161133&dec=-0.786143422127&scale=0.25&width=512&height=512&opt=GL&query=&Grid=on&Label=on   524482ba3ae74054bf00014c                                     0.861238402603                                                  0.0                                       0.138761597397                         37.1557978642                                       0.0                                      0.0                             0.0                              0.0                                 0.0                    0.0                                    0.0                                       0.0                       0.0                                                0.0                                                       0.0                                               0.0                                                0.0                                 0.0                              0.0                             1.0                   32.0                                       0.0                                       0.0                                            0.0                                            0.0                                        0.0                                         0.0                                           0.0                                          0.0                            0.0                                            0.9375                                      0.0625                                           0.0                       32.0                                          0.0                                       0.0                                           0.0                            0.0                                         0.0                                          0.0                                         0.0                             0.0                                    0.0                                    0.0                                    0.0                                    0.0                                              0.0                                            0.0                            0.0                                  0.0                                 1.0              37.1557978642 1.95235800743 6.24866437912 19.9197826385 18.0145568848 17.0273189545 16.5975532532 16.2392196655 0.161375537515 0.0154147744179 0.01248161681 0.0118399159983 0.0212802756578 18.2313041687 18.2057189941 16.940580368 0.00502340495586 17.3214912415 0.0052025760524       1.0 20.4755649567 0.251813948154 0.185282319784 0.13438218832 0.10189794749 0.0722469165921 16.940580368 0.00502340495586 0.106381997466 0.000160687006428 -19.2064342499 -20.9506397247 -21.6922206879 -22.0264873505 -22.3161945343 0.162644222379 0.0183743499219 0.0159934703261 0.0154978688806 0.0235129483044  3.80262470245               1                               0.738054733683                                            0.0                                            0.1                                 0.0                                0.0                              0.871999205032                        0.110736104062                                     0.0                              0.0                                 0.0                                    0.0                                 0.0                                     0.0                                          0.0                                                 0.0                                         0.0                                          0.0                                   0.0                                    0.0                                   0.0                              0.0                              0.0                              0.0                              0.0                                        0.0                                      0.0                        0.0                           0.0"
      ]
     },
     "execution_count": 69,
     "metadata": {},
     "output_type": "execute_result"
    }
   ],
   "source": [
    "data[0]"
   ]
  },
  {
   "cell_type": "code",
   "execution_count": 70,
   "metadata": {
    "collapsed": false
   },
   "outputs": [],
   "source": [
    "data.write('../../../data/ukidss_debiased_rh.fits')"
   ]
  },
  {
   "cell_type": "code",
   "execution_count": 71,
   "metadata": {
    "collapsed": false
   },
   "outputs": [],
   "source": [
    "## combine ukidss and gz2 tables for comparing later\n",
    "\n",
    "ukidss = Table.read('../../../data/ukidss_debiased_rh.fits')\n",
    "gz2 = Table.read('../../../data/gz2_hart16.fits.gz')\n",
    "\n"
   ]
  },
  {
   "cell_type": "code",
   "execution_count": 75,
   "metadata": {
    "collapsed": false
   },
   "outputs": [
    {
     "name": "stdout",
     "output_type": "stream",
     "text": [
      "\n"
     ]
    }
   ],
   "source": [
    "gz2_questions = ['t01_smooth_or_features'\n",
    "     ,'t02_edgeon'\n",
    "     ,'t03_bar'\n",
    "     ,'t04_spiral'\n",
    "     ,'t05_bulge_prominence'\n",
    "     ,'t06_odd'\n",
    "     ,'t07_rounded'\n",
    "     ,'t08_odd_feature'\n",
    "     ,'t09_bulge_shape'\n",
    "     ,'t10_arms_winding'\n",
    "     ,'t11_arms_number']\n",
    "\n",
    "gz2_answers = [['a01_smooth','a02_features_or_disk','a03_star_or_artifact']\n",
    "     ,['a04_yes','a05_no']\n",
    "     ,['a06_bar','a07_no_bar']\n",
    "     ,['a08_spiral','a09_no_spiral']\n",
    "     ,['a10_no_bulge','a11_just_noticeable','a12_obvious','a13_dominant']\n",
    "     ,['a14_yes','a15_no']\n",
    "     ,['a16_completely_round','a17_in_between','a18_cigar_shaped']\n",
    "     ,['a19_ring','a20_lens_or_arc','a21_disturbed','a22_irregular','a23_other','a24_merger','a38_dust_lane']\n",
    "     ,['a25_rounded','a26_boxy','a27_no_bulge']\n",
    "     ,['a28_tight','a29_medium','a30_loose']\n",
    "     ,['a31_1','a32_2','a33_3','a34_4','a36_more_than_4','a37_cant_tell']]\n",
    "\n",
    "#make dictionary of questions/answers\n",
    "gz2_task={}\n",
    "for a,question in enumerate(gz2_questions):\n",
    "    gz2_task[question]=[]\n",
    "    for answer in gz2_answers[a]:\n",
    "        gz2_task[question].append(answer)"
   ]
  },
  {
   "cell_type": "code",
   "execution_count": null,
   "metadata": {
    "collapsed": false
   },
   "outputs": [],
   "source": [
    "#add ukidss and gz2 labels on weighted and debiased vote fractions \n",
    "\n",
    "#ukidss\n",
    "for question in task: #for every question in tree\n",
    "    for answer in task[question]: #for each possible answer\n",
    "        debiased_colname = question+'_'+answer+'_debiased_rh'\n",
    "        weighted_colname = question+'_'+answer+'_weighted_fraction'\n",
    "        ukidss.rename_column(debiased_colname,debiased_colname+'_ukidss')\n",
    "        ukidss.rename_column(weighted_colname,weighted_colname+'_ukidss')\n",
    "    count_colname = question+'_count_weighted'\n",
    "    ukidss.rename_column(count_colname,count_colname+'_ukidss')\n",
    "    \n",
    "#gz2\n",
    "for question in gz2_task: #for every question in tree\n",
    "    for answer in gz2_task[question]: #for each possible answer\n",
    "        debiased_colname = question+'_'+answer+'_debiased'\n",
    "        weighted_colname = question+'_'+answer+'_weighted_fraction'\n",
    "        gz2.rename_column(debiased_colname,debiased_colname+'_gz2')\n",
    "        gz2.rename_column(weighted_colname,weighted_colname+'_gz2')\n"
   ]
  },
  {
   "cell_type": "code",
   "execution_count": 98,
   "metadata": {
    "collapsed": false
   },
   "outputs": [],
   "source": [
    "#combine counts for gz2 table \n",
    "for question in gz2_task: #for every question in tree\n",
    "    col=Column(np.zeros(len(gz2)),name=question+'_count')\n",
    "    gz2.add_column(col)\n",
    "    for gal in gz2:\n",
    "        total_count=0\n",
    "        for answer in gz2_task[question]: #for each possible answer\n",
    "            total_count+=gal[question+'_'+answer+'_weight']\n",
    "        gal[question+'_count']=total_count"
   ]
  },
  {
   "cell_type": "code",
   "execution_count": 112,
   "metadata": {
    "collapsed": false
   },
   "outputs": [],
   "source": [
    "for question in gz2_task:\n",
    "    gz2.rename_column(question+'_count',question+'_count_gz2')"
   ]
  },
  {
   "cell_type": "code",
   "execution_count": 118,
   "metadata": {
    "collapsed": false
   },
   "outputs": [],
   "source": [
    "from astropy.table import join\n",
    "combined_table=join(ukidss,gz2,keys='dr7objid')"
   ]
  },
  {
   "cell_type": "code",
   "execution_count": 121,
   "metadata": {
    "collapsed": false
   },
   "outputs": [],
   "source": [
    "combined_table.write('../../../data/ukidss_gz2_rh_debiased.fits')"
   ]
  },
  {
   "cell_type": "code",
   "execution_count": null,
   "metadata": {
    "collapsed": true
   },
   "outputs": [],
   "source": []
  }
 ],
 "metadata": {
  "kernelspec": {
   "display_name": "Python 2",
   "language": "python",
   "name": "python2"
  },
  "language_info": {
   "codemirror_mode": {
    "name": "ipython",
    "version": 2
   },
   "file_extension": ".py",
   "mimetype": "text/x-python",
   "name": "python",
   "nbconvert_exporter": "python",
   "pygments_lexer": "ipython2",
   "version": "2.7.6"
  }
 },
 "nbformat": 4,
 "nbformat_minor": 0
}
