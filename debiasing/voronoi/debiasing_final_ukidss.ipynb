{
 "cells": [
  {
   "cell_type": "code",
   "execution_count": 1,
   "metadata": {
    "collapsed": true
   },
   "outputs": [],
   "source": [
    "from __future__ import print_function\n",
    "from __future__ import division\n",
    "\n",
    "import os\n",
    "import math\n",
    "\n",
    "import numpy as np\n",
    "from astropy.io import fits\n",
    "from astropy.table import Table\n",
    "from scipy.stats import binned_statistic, scoreatpercentile\n",
    "import pickle\n",
    "from scipy.optimize import minimize\n",
    "import time\n",
    "from voronoi_2d_binning import voronoi_2d_binning\n",
    "from sklearn.neighbors import NearestNeighbors\n",
    "import pickle\n",
    "import imp # reload modules if necessary"
   ]
  },
  {
   "cell_type": "code",
   "execution_count": 2,
   "metadata": {
    "collapsed": false,
    "scrolled": true
   },
   "outputs": [],
   "source": [
    "import binning\n",
    "import bin_debiasing\n",
    "import fit_debiasing\n",
    "import make_dictionaries\n",
    "import params"
   ]
  },
  {
   "cell_type": "code",
   "execution_count": 3,
   "metadata": {
    "collapsed": false
   },
   "outputs": [],
   "source": [
    "% matplotlib inline\n",
    "import matplotlib as mpl\n",
    "mpl.rcParams['font.family'] = 'serif'\n",
    "mpl.rcParams['figure.figsize'] = (10.0, 8)\n",
    "mpl.rcParams['font.size'] = 18\n",
    "mpl.ticker.AutoLocator.default_params['nbins'] = 5\n",
    "mpl.ticker.AutoLocator.default_params['prune'] = 'both'"
   ]
  },
  {
   "cell_type": "code",
   "execution_count": 4,
   "metadata": {
    "collapsed": true
   },
   "outputs": [],
   "source": [
    "os.mkdir('output_files/') if os.path.isdir('output_files/') is False else None\n",
    "\n",
    "source_directory = params.source_directory\n",
    "full_sample = params.full_sample\n",
    "\n",
    "min_log_fv = -1.5\n",
    "max_log_fv = 0.01 \n"
   ]
  },
  {
   "cell_type": "code",
   "execution_count": 5,
   "metadata": {
    "collapsed": false
   },
   "outputs": [
    {
     "name": "stdout",
     "output_type": "stream",
     "text": [
      "Loaded galaxy data...\n"
     ]
    }
   ],
   "source": [
    "full_data = Table.read(source_directory + full_sample)\n",
    "print('Loaded galaxy data...')\n",
    "\n"
   ]
  },
  {
   "cell_type": "code",
   "execution_count": 6,
   "metadata": {
    "collapsed": false
   },
   "outputs": [],
   "source": [
    "#only use data which have z,Mr, and r50 data\n",
    "z_range = (full_data['REDSHIFT_1']>0)\n",
    "m_range = (full_data['PETROR50_R_KPC']>0)\n",
    "r_range = (full_data['PETROMAG_MR']>-25)\n",
    "\n",
    "full_data = full_data[z_range & m_range & r_range]"
   ]
  },
  {
   "cell_type": "code",
   "execution_count": 7,
   "metadata": {
    "collapsed": false
   },
   "outputs": [
    {
     "name": "stdout",
     "output_type": "stream",
     "text": [
      "Loaded questions...\n",
      "Loaded functions...\n"
     ]
    }
   ],
   "source": [
    "questions = make_dictionaries.questions\n",
    "print('Loaded questions...')\n",
    "function_dictionary = make_dictionaries.function_dictionary\n",
    "print('Loaded functions...')"
   ]
  },
  {
   "cell_type": "code",
   "execution_count": 8,
   "metadata": {
    "collapsed": false
   },
   "outputs": [
    {
     "data": {
      "text/plain": [
       "{'t00_smooth_or_features': {'answerlabels': ['Smooth', 'Features', 'Artifact'],\n",
       "  'answers': ['a0_smooth', 'a1_features', 'a2_artifact'],\n",
       "  'pre_answers': None,\n",
       "  'pre_questions': None,\n",
       "  'questionlabel': 'Smooth or features'},\n",
       " 't01_disk_edge_on': {'answerlabels': ['Yes', 'No'],\n",
       "  'answers': ['a0_yes', 'a1_no'],\n",
       "  'pre_answers': ['a1_features'],\n",
       "  'pre_questions': ['t00_smooth_or_features'],\n",
       "  'questionlabel': 'Edge on'},\n",
       " 't02_bar': {'answerlabels': ['Yes', 'No'],\n",
       "  'answers': ['a0_bar', 'a1_no_bar'],\n",
       "  'pre_answers': ['a1_features', 'a1_no'],\n",
       "  'pre_questions': ['t00_smooth_or_features', 't01_disk_edge_on'],\n",
       "  'questionlabel': 'Bar'},\n",
       " 't03_spiral': {'answerlabels': ['Yes', 'No'],\n",
       "  'answers': ['a0_spiral', 'a1_no_spiral'],\n",
       "  'pre_answers': ['a1_features', 'a1_no'],\n",
       "  'pre_questions': ['t00_smooth_or_features', 't01_disk_edge_on'],\n",
       "  'questionlabel': 'Spiral'},\n",
       " 't04_bulge_prominence': {'answerlabels': ['None',\n",
       "   'Noticeable',\n",
       "   'Obvious',\n",
       "   'Dominant'],\n",
       "  'answers': ['a0_no_bulge',\n",
       "   'a1_just_noticeable',\n",
       "   'a2_obvious',\n",
       "   'a3_dominant'],\n",
       "  'pre_answers': ['a1_features', 'a1_no'],\n",
       "  'pre_questions': ['t00_smooth_or_features', 't01_disk_edge_on'],\n",
       "  'questionlabel': 'Bulge prominence'},\n",
       " 't05_odd': {'answerlabels': ['Yes', 'No'],\n",
       "  'answers': ['a0_yes', 'a1_no'],\n",
       "  'pre_answers': None,\n",
       "  'pre_questions': None,\n",
       "  'questionlabel': 'Anything odd'},\n",
       " 't06_odd_feature': {'answerlabels': ['Ring',\n",
       "   'Lens/Arc',\n",
       "   'Disturbed',\n",
       "   'Irregular',\n",
       "   'Other',\n",
       "   'Merger',\n",
       "   'Dust lane'],\n",
       "  'answers': ['x0_ring',\n",
       "   'x1_lens',\n",
       "   'x2_disturbed',\n",
       "   'x3_irregular',\n",
       "   'x4_other',\n",
       "   'x5_merger',\n",
       "   'x6_dust_lane'],\n",
       "  'pre_answers': ['a0_yes'],\n",
       "  'pre_questions': ['t05_odd'],\n",
       "  'questionlabel': 'Odd features'},\n",
       " 't07_rounded': {'answerlabels': ['Round', 'In between', 'Cigar shaped'],\n",
       "  'answers': ['a0_completely_round', 'a1_in_between', 'a2_cigar_shaped'],\n",
       "  'pre_answers': ['a0_smooth'],\n",
       "  'pre_questions': ['t00_smooth_or_features'],\n",
       "  'questionlabel': 'Roundedness'},\n",
       " 't08_bulge_shape': {'answerlabels': ['Rounded', 'Boxy', 'None'],\n",
       "  'answers': ['a0_rounded', 'a1_boxy', 'a2_no_bulge'],\n",
       "  'pre_answers': ['a1_features', 'a0_yes'],\n",
       "  'pre_questions': ['t00_smooth_or_features', 't01_disk_edge_on'],\n",
       "  'questionlabel': 'Bulge shape'},\n",
       " 't09_arms_winding': {'answerlabels': ['Tight', 'Medium', 'Loose'],\n",
       "  'answers': ['a0_tight', 'a1_medium', 'a2_loose'],\n",
       "  'pre_answers': ['a1_features', 'a1_no', 'a0_spiral'],\n",
       "  'pre_questions': ['t00_smooth_or_features',\n",
       "   't01_disk_edge_on',\n",
       "   't03_spiral'],\n",
       "  'questionlabel': 'Arm winding'},\n",
       " 't10_arms_number': {'answerlabels': ['1', '2', '3', '4', '5+', '??'],\n",
       "  'answers': ['a0_1',\n",
       "   'a1_2',\n",
       "   'a2_3',\n",
       "   'a3_4',\n",
       "   'a4_more_than_4',\n",
       "   'a5_cant_tell'],\n",
       "  'pre_answers': ['a1_features', 'a1_no', 'a0_spiral'],\n",
       "  'pre_questions': ['t00_smooth_or_features',\n",
       "   't01_disk_edge_on',\n",
       "   't03_spiral'],\n",
       "  'questionlabel': 'Arm number'}}"
      ]
     },
     "execution_count": 8,
     "metadata": {},
     "output_type": "execute_result"
    }
   ],
   "source": [
    "questions"
   ]
  },
  {
   "cell_type": "code",
   "execution_count": 15,
   "metadata": {
    "collapsed": true
   },
   "outputs": [],
   "source": [
    "def reduce_sample(full_data,questions,question,p_cut=0.3,N_cut=5,normalised_values=True):\n",
    "    ''' Reduce the sample to p>p_cut galaxies only, \n",
    "        using the precedeing questions'''\n",
    "    \n",
    "    previous_q = questions[question]['pre_questions']\n",
    "    previous_a = questions[question]['pre_answers']\n",
    "    \n",
    "    if normalised_values == True:\n",
    "        suffix = '_debiased_rh_normalised'\n",
    "    else:\n",
    "        suffix = '_debiased_rh'\n",
    "    \n",
    "    if previous_q != None:\n",
    "        \n",
    "        p_col = np.ones(len(full_data))\n",
    "        \n",
    "        for m in range(len(previous_q)):\n",
    "            p_col = p_col*(full_data[previous_q[m] + '_' + previous_a[m] + suffix])\n",
    "        N_col = (full_data[question + '_count_weighted']) #change: instead of 5 people voting for the answer that leads to this question, just require 5 vote on this question\n",
    "        \n",
    "        select = (p_col > p_cut) & (N_col >= N_cut)\n",
    "        data_reduced = full_data[select]\n",
    "        print('{}/{} galaxies with p>{} and N>={}.'.format(len(data_reduced),\n",
    "                                                          len(full_data),p_cut,N_cut))\n",
    "    \n",
    "    else:\n",
    "        data_reduced = full_data.copy()\n",
    "        print('Primary question, so all {} galaxies used.'.format(len(data_reduced)))\n",
    "    \n",
    "    return data_reduced"
   ]
  },
  {
   "cell_type": "code",
   "execution_count": 10,
   "metadata": {
    "collapsed": true
   },
   "outputs": [],
   "source": [
    "def get_bins(question,answer):\n",
    "    ''' Get bins if they have already been created from a \n",
    "        previous running of the debiasing'''\n",
    "    \n",
    "    bins = Table.read('output_files/'+ question + '/' + answer + '/bins.fits')\n",
    "    all_bins = Table.read('output_files/'+ question + '/' + answer + '/all_bins.fits')\n",
    "    vbins_table = Table.read('output_files/'+ question + '/' + answer + '/vbin_parameters.fits')\n",
    "    \n",
    "    vbins = bins['vbin']\n",
    "    zbins = bins['zbin']\n",
    "    zbins_coarse = bins['coarse_zbin']\n",
    "    vbins_all = all_bins['vbin']\n",
    "    zbins_all = all_bins['zbin']\n",
    "    zbins_coarse_all = all_bins['coarse_zbin']\n",
    "    \n",
    "    return vbins,zbins,zbins_coarse,vbins_all,zbins_all,zbins_coarse_all,vbins_table"
   ]
  },
  {
   "cell_type": "code",
   "execution_count": 11,
   "metadata": {
    "collapsed": true
   },
   "outputs": [],
   "source": [
    "def histogram_fractions(data,hist_bins):\n",
    "    ''' Get raw histogram values '''\n",
    "    h,bin_edges = np.histogram(data,bins=hist_bins)\n",
    "    f = h/np.sum(h)\n",
    "    return f\n",
    "\n",
    "\n",
    "def bin_by_column(column, nbins, fixedcount=True):\n",
    "    ''' Bin the data into redshift slices \n",
    "    (or by any column) '''\n",
    "    \n",
    "    sorted_indices = np.argsort(column)\n",
    "    if fixedcount:\n",
    "        bin_edges = np.linspace(0, 1, nbins + 1)\n",
    "        bin_edges[-1] += 1\n",
    "        values = np.empty(len(column))\n",
    "        values[sorted_indices] = np.linspace(0, 1, len(column))\n",
    "        bins = np.digitize(values, bins=bin_edges)\n",
    "    else:\n",
    "        bin_edges = np.linspace(np.min(column),np.max(column), nbins + 1)\n",
    "        bin_edges[-1] += 1\n",
    "        values = column\n",
    "        bins = np.digitize(values, bins=bin_edges)\n",
    "    x, b, n = binned_statistic(values, column, bins=bin_edges)\n",
    "    return x, bins\n",
    "\n",
    "\n",
    "def get_rms(dataset,reference,redshifts):\n",
    "    ''' Calculate rms of a dataset in comparison w. reference data'''\n",
    "    hist_bins = np.linspace(0,1,11)\n",
    "    hist_bins[0] = -1\n",
    "    hist_bins[-1] = 2\n",
    "    zv,zb = bin_by_column(redshifts,nbins=10)\n",
    "    \n",
    "    rms_values = np.zeros(len(np.unique(zb)))\n",
    "    ref_fractions = histogram_fractions(reference,hist_bins)\n",
    "    \n",
    "    for i,z in enumerate(np.unique(zb)):\n",
    "        \n",
    "        sample = dataset[zb == z]\n",
    "        fractions = histogram_fractions(sample,hist_bins)\n",
    "        rms_values[i] = np.sum((fractions-ref_fractions)**2)\n",
    "    \n",
    "    return np.sum(rms_values)"
   ]
  },
  {
   "cell_type": "code",
   "execution_count": 12,
   "metadata": {
    "collapsed": true
   },
   "outputs": [],
   "source": [
    "def choose_best_function(raw_data,debiased,question,answer):\n",
    "    ''' Decide on which set of debiasing values is preferred'''\n",
    "    volume_ok = raw_data['in_volume_limit'] == 1\n",
    "    \n",
    "    # Raw data for reference:\n",
    "    vl  = raw_data[volume_ok][question + '_' + answer + '_weighted_fraction']\n",
    "    \n",
    "    # 2 sets of debiased data for comparison:\n",
    "    vl_bin = debiased['bin_method'][volume_ok]\n",
    "    vl_fit = debiased['fit_method'][volume_ok]\n",
    "    redshifts = full_data['REDSHIFT_1'][volume_ok]\n",
    "    \n",
    "    low_z = (redshifts >= 0.03) & (redshifts < 0.035)\n",
    "    reference = vl[low_z] # raw low-z for comparison\n",
    "    \n",
    "    rms_bin = get_rms(vl_bin,reference,redshifts) # get rms values\n",
    "    rms_fit = get_rms(vl_fit,reference,redshifts) # get rms values\n",
    "    \n",
    "    print('rms^2(bin) = {0:.3f}'.format(rms_bin))\n",
    "    print('rms^2(fit) = {0:.3f}'.format(rms_fit))\n",
    "    if rms_bin < rms_fit:\n",
    "        print('---> bin method selected')\n",
    "        debiased_values = debiased['bin_method']\n",
    "    else:\n",
    "        print('---> fit method selected')\n",
    "        debiased_values = debiased['fit_method'] # Prefer fit method if it \n",
    "        # has better rms^2 value.\n",
    "        \n",
    "    return debiased_values"
   ]
  },
  {
   "cell_type": "code",
   "execution_count": 13,
   "metadata": {
    "collapsed": true
   },
   "outputs": [],
   "source": [
    "def bin_and_debias(full_data,question,questions,answer\n",
    "                   ,bins_exist=False,n_per_bin=100,coarse=False):\n",
    "    '''Set to 'coarse' to make the fitting only apply to the 'coarse binning'of 4 redshift bins per \n",
    "    voronoi bin rather than the fully binned data'''\n",
    "    \n",
    "    # Create output file folders:\n",
    "    (os.mkdir('output_files/'+ question) if\n",
    "     os.path.isdir('output_files/'+ question) is False else None)\n",
    "    (os.mkdir('output_files/'+ question + '/' + answer) if\n",
    "     os.path.isdir('output_files/'+ question + '/' + answer) is False else None)\n",
    "    \n",
    "    # Only use the p>0.5 and N>= 5 data for a given question:\n",
    "    data = reduce_sample(full_data,questions,question)\n",
    "    \n",
    "    if bins_exist == True:\n",
    "        (vbins,zbins,zbins_coarse,\n",
    "         vbins_all,zbins_all,zbins_coarse_all,\n",
    "         vbins_table) = get_bins(question,answer)\n",
    "        print('Bins obtained from previous iteration...')\n",
    "        \n",
    "    else:\n",
    "        (vbins,zbins,zbins_coarse,\n",
    "         vbins_all,zbins_all,zbins_coarse_all,\n",
    "         vbins_table) = binning.bin_data(data,full_data,\n",
    "                                        question,answer,\n",
    "                                        signal=n_per_bin)\n",
    "        \n",
    "    # Save the binning data:\n",
    "    bin_table = Table([vbins,zbins,zbins_coarse],names=('vbin','zbin','coarse_zbin'))\n",
    "    all_bin_table = Table([vbins_all,zbins_all,zbins_coarse_all],names=('vbin','zbin','coarse_zbin'))\n",
    "    bin_table.write('output_files/'+ question + '/' + answer + '/bins.fits',overwrite=True)\n",
    "    all_bin_table.write('output_files/'+ question + '/' + answer + '/all_bins.fits',overwrite=True)\n",
    "    vbins_table.write('output_files/'+ question + '/' + answer + '/vbin_parameters.fits',overwrite=True)\n",
    "\n",
    "    # Debias using the discrete bin method 1st:\n",
    "    debiased_bin = bin_debiasing.debias(data,full_data,vbins,zbins,vbins_all,zbins_all,question,answer)\n",
    "    # Now debias using the functional fitting method:\n",
    "    debiased_fit,dout,fit_setup,zbins,fit_vbin_results = fit_debiasing.debias_by_fit(data,full_data,vbins,zbins,\n",
    "                                                                                     zbins_coarse,question,answer,\n",
    "                                                                                     function_dictionary,min_log_fv,\n",
    "                                                                                     coarse=coarse)\n",
    "    \n",
    "    volume_ok = data['in_volume_limit'] == 1    \n",
    "    vl_data = full_data[volume_ok]\n",
    "    vl_fit = debiased_fit[volume_ok]\n",
    "    vl_bin = debiased_bin[volume_ok]\n",
    "\n",
    "    debiased_table = Table([debiased_bin,debiased_fit],names=('bin_method','fit_method'))\n",
    "    debiased_table.write('output_files/'+ question + '/' + answer + '/debiased.fits',overwrite=True)\n",
    "    dout.write('output_files/'+ question + '/' + answer + '/fit_results.fits',overwrite=True)\n",
    "    pickle.dump(fit_setup,open('output_files/'+ question + '/' + answer + '/fit_setup.p', \"wb\" ))\n",
    "    \n",
    "    return debiased_table"
   ]
  },
  {
   "cell_type": "code",
   "execution_count": 16,
   "metadata": {
    "collapsed": false,
    "scrolled": true
   },
   "outputs": [
    {
     "name": "stdout",
     "output_type": "stream",
     "text": [
      "----------------------------------\n",
      "Question to be debiased: t10_arms_number\n",
      "Answer to be debiased: a0_1\n",
      "6480/60783 galaxies with p>0.3 and N>=5.\n",
      "Bin-accretion...\n",
      "60  initial bins.\n",
      "Reassign bad bins...\n",
      "28  good bins.\n",
      "Modified Lloyd algorithm...\n",
      "8"
     ]
    },
    {
     "name": "stderr",
     "output_type": "stream",
     "text": [
      "binning.py:33: DeprecationWarning: using a non-integer number instead of an integer will result in an error in the future\n",
      "  R50_bin_coords = R50_bin_centres.repeat(n_rect_bins).reshape(n_rect_bins, n_rect_bins).ravel()\n",
      "binning.py:33: DeprecationWarning: using a non-integer number instead of an integer will result in an error in the future\n",
      "  R50_bin_coords = R50_bin_centres.repeat(n_rect_bins).reshape(n_rect_bins, n_rect_bins).ravel()\n",
      "binning.py:34: DeprecationWarning: using a non-integer number instead of an integer will result in an error in the future\n",
      "  Mr_bin_coords = Mr_bin_centres.repeat(n_rect_bins).reshape(n_rect_bins, n_rect_bins).T.ravel()\n",
      "binning.py:34: DeprecationWarning: using a non-integer number instead of an integer will result in an error in the future\n",
      "  Mr_bin_coords = Mr_bin_centres.repeat(n_rect_bins).reshape(n_rect_bins, n_rect_bins).T.ravel()\n",
      "binning.py:74: DeprecationWarning: assignment will raise an error in the future, most likely because your index result shape does not match the value array shape. You can use `arr.flat[index] = values` to keep the old behaviour.\n",
      "  rect_bin_count[ok_bin] = count\n",
      "/usr/local/lib/python2.7/dist-packages/numpy/ma/core.py:3115: VisibleDeprecationWarning: boolean index did not match indexed array along dimension 0; dimension is 60783 but corresponding boolean dimension is 6480\n",
      "  dout = self.data[indx]\n",
      "/usr/local/lib/python2.7/dist-packages/numpy/ma/core.py:3150: VisibleDeprecationWarning: boolean index did not match indexed array along dimension 0; dimension is 60783 but corresponding boolean dimension is 6480\n",
      "  dout._mask = _mask[indx]\n",
      "binning.py:184: VisibleDeprecationWarning: boolean index did not match indexed array along dimension 0; dimension is 60783 but corresponding boolean dimension is 6480\n",
      "  zbins[vbins == v] = z_bin\n"
     ]
    },
    {
     "name": "stdout",
     "output_type": "stream",
     "text": [
      "  iterations.\n",
      "Unbinned pixels:  0  /  538\n",
      "Fractional S/N scatter (%): 13.3513822837\n",
      "28 voronoi bins\n",
      "1.75 redshift bins per voronoi bin\n",
      "Using fixed width bins\n",
      "All bins fitted! 14.7529640198s in total\n",
      "chisq(logistic) = 0.00111694015384\n",
      "All bins fitted! 11.1984770298s in total\n",
      "chisq(exp. power) = 0.000795864747855\n",
      "All bins fitted! 13.0506298542s in total\n",
      "Selected functions:------"
     ]
    },
    {
     "name": "stderr",
     "output_type": "stream",
     "text": [
      "bin_debiasing.py:76: VisibleDeprecationWarning: boolean index did not match indexed array along dimension 0; dimension is 60783 but corresponding boolean dimension is 6480\n",
      "  debiased_column[data_column == 0] = 0 # Don't 'debias up' 0s.\n",
      "bin_debiasing.py:77: VisibleDeprecationWarning: boolean index did not match indexed array along dimension 0; dimension is 60783 but corresponding boolean dimension is 6480\n",
      "  debiased_column[data_column == 1] = 1 # Don't 'debias down' the 1s.\n",
      "/usr/local/lib/python2.7/dist-packages/ipykernel/__main__.py:45: VisibleDeprecationWarning: boolean index did not match indexed array along dimension 0; dimension is 60783 but corresponding boolean dimension is 6480\n"
     ]
    },
    {
     "name": "stdout",
     "output_type": "stream",
     "text": [
      "\n",
      "k: linear(M),log(R),log(z)\n",
      "c: linear(M),linear(R),linear(z)\n",
      "rms^2(bin) = 0.063\n",
      "rms^2(fit) = 0.010\n",
      "---> fit method selected\n",
      "----------------------------------\n",
      "----------------------------------\n",
      "Question to be debiased: t10_arms_number\n",
      "Answer to be debiased: a1_2\n",
      "6480/60783 galaxies with p>0.3 and N>=5."
     ]
    },
    {
     "name": "stderr",
     "output_type": "stream",
     "text": [
      "/usr/local/lib/python2.7/dist-packages/ipykernel/__main__.py:46: VisibleDeprecationWarning: boolean index did not match indexed array along dimension 0; dimension is 60783 but corresponding boolean dimension is 6480\n",
      "binning.py:33: DeprecationWarning: using a non-integer number instead of an integer will result in an error in the future\n",
      "  R50_bin_coords = R50_bin_centres.repeat(n_rect_bins).reshape(n_rect_bins, n_rect_bins).ravel()\n"
     ]
    },
    {
     "name": "stdout",
     "output_type": "stream",
     "text": [
      "\n",
      "Bin-accretion...\n",
      "100"
     ]
    },
    {
     "name": "stderr",
     "output_type": "stream",
     "text": [
      "binning.py:33: DeprecationWarning: using a non-integer number instead of an integer will result in an error in the future\n",
      "  R50_bin_coords = R50_bin_centres.repeat(n_rect_bins).reshape(n_rect_bins, n_rect_bins).ravel()\n",
      "binning.py:34: DeprecationWarning: using a non-integer number instead of an integer will result in an error in the future\n",
      "  Mr_bin_coords = Mr_bin_centres.repeat(n_rect_bins).reshape(n_rect_bins, n_rect_bins).T.ravel()\n",
      "binning.py:34: DeprecationWarning: using a non-integer number instead of an integer will result in an error in the future\n",
      "  Mr_bin_coords = Mr_bin_centres.repeat(n_rect_bins).reshape(n_rect_bins, n_rect_bins).T.ravel()\n",
      "binning.py:74: DeprecationWarning: assignment will raise an error in the future, most likely because your index result shape does not match the value array shape. You can use `arr.flat[index] = values` to keep the old behaviour.\n",
      "  rect_bin_count[ok_bin] = count\n"
     ]
    },
    {
     "name": "stdout",
     "output_type": "stream",
     "text": [
      "  initial bins.\n",
      "Reassign bad bins...\n",
      "26  good bins.\n",
      "Modified Lloyd algorithm...\n",
      "19  iterations.\n",
      "Unbinned pixels:  0  /  1042\n",
      "Fractional S/N scatter (%): 14.0596582124\n",
      "26 voronoi bins\n",
      "4.30769230769 redshift bins per voronoi bin\n",
      "All bins fitted! 26.1825389862s in total\n",
      "chisq(logistic) = 0.00352932984037\n",
      "All bins fitted! 16.5048480034s in total\n",
      "chisq(exp. power) = 0.00186322064439\n",
      "All bins fitted! 11.3919458389s in total\n",
      "Selected functions:------\n",
      "k: exp(M),exp(R),linear(z)\n",
      "c: linear(M),exp(R),log(z)\n",
      "rms^2(bin) = 0.839\n",
      "rms^2(fit) = 0.103\n",
      "---> fit method selected\n",
      "----------------------------------\n",
      "----------------------------------\n",
      "Question to be debiased: t10_arms_number\n",
      "Answer to be debiased: a2_3\n",
      "6480/60783 galaxies with p>0.3 and N>=5.\n",
      "Bin-accretion...\n",
      "49  initial bins.\n",
      "Reassign bad bins...\n",
      "27  good bins.\n",
      "Modified Lloyd algorithm...\n",
      "14  iterations.\n",
      "Unbinned pixels:  0  /  343\n",
      "Fractional S/N scatter (%): 17.0640150295\n",
      "27 voronoi bins\n",
      "0.814814814815 redshift bins per voronoi bin\n",
      "Using fixed width bins\n",
      "All bins fitted! 8.32684707642s in total\n",
      "chisq(logistic) = 0.0994171017288\n",
      "All bins fitted! 21.1059098244s in total\n",
      "chisq(exp. power) = 0.00169224417354\n",
      "All bins fitted! 12.7631211281s in total\n",
      "Selected functions:------\n",
      "k: linear(M),log(R),log(z)\n",
      "c: exp(M),log(R),exp(z)\n",
      "rms^2(bin) = 0.031\n",
      "rms^2(fit) = 0.004\n",
      "---> fit method selected\n",
      "----------------------------------\n",
      "----------------------------------\n",
      "Question to be debiased: t10_arms_number\n",
      "Answer to be debiased: a3_4\n",
      "6480/60783 galaxies with p>0.3 and N>=5."
     ]
    },
    {
     "name": "stderr",
     "output_type": "stream",
     "text": [
      "binning.py:33: DeprecationWarning: using a non-integer number instead of an integer will result in an error in the future\n",
      "  R50_bin_coords = R50_bin_centres.repeat(n_rect_bins).reshape(n_rect_bins, n_rect_bins).ravel()\n",
      "binning.py:33: DeprecationWarning: using a non-integer number instead of an integer will result in an error in the future\n",
      "  R50_bin_coords = R50_bin_centres.repeat(n_rect_bins).reshape(n_rect_bins, n_rect_bins).ravel()\n",
      "binning.py:34: DeprecationWarning: using a non-integer number instead of an integer will result in an error in the future\n",
      "  Mr_bin_coords = Mr_bin_centres.repeat(n_rect_bins).reshape(n_rect_bins, n_rect_bins).T.ravel()\n",
      "binning.py:34: DeprecationWarning: using a non-integer number instead of an integer will result in an error in the future\n",
      "  Mr_bin_coords = Mr_bin_centres.repeat(n_rect_bins).reshape(n_rect_bins, n_rect_bins).T.ravel()\n",
      "binning.py:74: DeprecationWarning: assignment will raise an error in the future, most likely because your index result shape does not match the value array shape. You can use `arr.flat[index] = values` to keep the old behaviour.\n",
      "  rect_bin_count[ok_bin] = count\n",
      "binning.py:33: DeprecationWarning: using a non-integer number instead of an integer will result in an error in the future\n",
      "  R50_bin_coords = R50_bin_centres.repeat(n_rect_bins).reshape(n_rect_bins, n_rect_bins).ravel()\n"
     ]
    },
    {
     "name": "stdout",
     "output_type": "stream",
     "text": [
      "\n",
      "Bin-accretion...\n",
      "47  initial bins.\n",
      "Reassign bad bins...\n",
      "27  good bins.\n",
      "Modified Lloyd algorithm...\n",
      "5  iterations.\n",
      "Unbinned pixels:  0  /  164\n",
      "Fractional S/N scatter (%): 11.5978970657\n",
      "27 voronoi bins\n",
      "0.0 redshift bins per voronoi bin\n",
      "Using fixed width bins\n",
      "All bins fitted! 7.86891508102s in total\n",
      "chisq(logistic) = 0.341317404919\n",
      "All bins fitted! 15.813354969s in total\n",
      "chisq(exp. power) = 0.000910035382078\n",
      "All bins fitted! 13.4980618954s in total\n",
      "Selected functions:------\n",
      "k: linear(M),exp(R),log(z)\n",
      "c: linear(M),log(R),log(z)\n",
      "rms^2(bin) = 0.004\n",
      "rms^2(fit) = 0.001\n",
      "---> fit method selected\n",
      "----------------------------------\n",
      "----------------------------------\n",
      "Question to be debiased: t10_arms_number\n",
      "Answer to be debiased: a4_more_than_4\n",
      "6480/60783 galaxies with p>0.3 and N>=5."
     ]
    },
    {
     "name": "stderr",
     "output_type": "stream",
     "text": [
      "binning.py:33: DeprecationWarning: using a non-integer number instead of an integer will result in an error in the future\n",
      "  R50_bin_coords = R50_bin_centres.repeat(n_rect_bins).reshape(n_rect_bins, n_rect_bins).ravel()\n",
      "binning.py:34: DeprecationWarning: using a non-integer number instead of an integer will result in an error in the future\n",
      "  Mr_bin_coords = Mr_bin_centres.repeat(n_rect_bins).reshape(n_rect_bins, n_rect_bins).T.ravel()\n",
      "binning.py:34: DeprecationWarning: using a non-integer number instead of an integer will result in an error in the future\n",
      "  Mr_bin_coords = Mr_bin_centres.repeat(n_rect_bins).reshape(n_rect_bins, n_rect_bins).T.ravel()\n",
      "binning.py:74: DeprecationWarning: assignment will raise an error in the future, most likely because your index result shape does not match the value array shape. You can use `arr.flat[index] = values` to keep the old behaviour.\n",
      "  rect_bin_count[ok_bin] = count\n",
      "binning.py:33: DeprecationWarning: using a non-integer number instead of an integer will result in an error in the future\n",
      "  R50_bin_coords = R50_bin_centres.repeat(n_rect_bins).reshape(n_rect_bins, n_rect_bins).ravel()\n"
     ]
    },
    {
     "name": "stdout",
     "output_type": "stream",
     "text": [
      "\n",
      "Bin-accretion...\n",
      "38  initial bins.\n",
      "Reassign bad bins...\n",
      "26  good bins.\n",
      "Modified Lloyd algorithm...\n",
      "4  iterations.\n",
      "Unbinned pixels:  0  /  143\n",
      "Fractional S/N scatter (%): 16.0833241942\n",
      "26 voronoi bins\n",
      "0.0 redshift bins per voronoi bin\n",
      "Using fixed width bins\n",
      "All bins fitted! 7.54130601883s in total\n",
      "chisq(logistic) = 0.4283218287\n",
      "All bins fitted! 11.1096901894s in total\n",
      "chisq(exp. power) = 0.0014654867715\n",
      "All bins fitted! 11.1399869919s in total\n",
      "Selected functions:------\n",
      "k: linear(M),log(R),exp(z)\n",
      "c: linear(M),exp(R),linear(z)\n",
      "rms^2(bin) = 0.005\n",
      "rms^2(fit) = 0.000\n",
      "---> fit method selected\n",
      "----------------------------------\n",
      "----------------------------------\n",
      "Question to be debiased: t10_arms_number\n",
      "Answer to be debiased: a5_cant_tell\n",
      "6480/60783 galaxies with p>0.3 and N>=5."
     ]
    },
    {
     "name": "stderr",
     "output_type": "stream",
     "text": [
      "binning.py:33: DeprecationWarning: using a non-integer number instead of an integer will result in an error in the future\n",
      "  R50_bin_coords = R50_bin_centres.repeat(n_rect_bins).reshape(n_rect_bins, n_rect_bins).ravel()\n",
      "binning.py:34: DeprecationWarning: using a non-integer number instead of an integer will result in an error in the future\n",
      "  Mr_bin_coords = Mr_bin_centres.repeat(n_rect_bins).reshape(n_rect_bins, n_rect_bins).T.ravel()\n",
      "binning.py:34: DeprecationWarning: using a non-integer number instead of an integer will result in an error in the future\n",
      "  Mr_bin_coords = Mr_bin_centres.repeat(n_rect_bins).reshape(n_rect_bins, n_rect_bins).T.ravel()\n",
      "binning.py:74: DeprecationWarning: assignment will raise an error in the future, most likely because your index result shape does not match the value array shape. You can use `arr.flat[index] = values` to keep the old behaviour.\n",
      "  rect_bin_count[ok_bin] = count\n",
      "binning.py:33: DeprecationWarning: using a non-integer number instead of an integer will result in an error in the future\n",
      "  R50_bin_coords = R50_bin_centres.repeat(n_rect_bins).reshape(n_rect_bins, n_rect_bins).ravel()\n"
     ]
    },
    {
     "name": "stdout",
     "output_type": "stream",
     "text": [
      "\n",
      "Bin-accretion...\n",
      "93"
     ]
    },
    {
     "name": "stderr",
     "output_type": "stream",
     "text": [
      "binning.py:33: DeprecationWarning: using a non-integer number instead of an integer will result in an error in the future\n",
      "  R50_bin_coords = R50_bin_centres.repeat(n_rect_bins).reshape(n_rect_bins, n_rect_bins).ravel()\n",
      "binning.py:34: DeprecationWarning: using a non-integer number instead of an integer will result in an error in the future\n",
      "  Mr_bin_coords = Mr_bin_centres.repeat(n_rect_bins).reshape(n_rect_bins, n_rect_bins).T.ravel()\n",
      "binning.py:34: DeprecationWarning: using a non-integer number instead of an integer will result in an error in the future\n",
      "  Mr_bin_coords = Mr_bin_centres.repeat(n_rect_bins).reshape(n_rect_bins, n_rect_bins).T.ravel()\n",
      "binning.py:74: DeprecationWarning: assignment will raise an error in the future, most likely because your index result shape does not match the value array shape. You can use `arr.flat[index] = values` to keep the old behaviour.\n",
      "  rect_bin_count[ok_bin] = count\n"
     ]
    },
    {
     "name": "stdout",
     "output_type": "stream",
     "text": [
      "  initial bins.\n",
      "Reassign bad bins...\n",
      "26  good bins.\n",
      "Modified Lloyd algorithm...\n",
      "21  iterations.\n",
      "Unbinned pixels:  0  /  1066\n",
      "Fractional S/N scatter (%): 14.6377757481\n",
      "26 voronoi bins\n",
      "3.84615384615 redshift bins per voronoi bin\n",
      "All bins fitted! 11.4079971313s in total\n",
      "chisq(logistic) = 0.0170828725295\n",
      "All bins fitted! 15.1893730164s in total\n",
      "chisq(exp. power) = 0.00228401426628\n",
      "All bins fitted! 9.55543112755s in total\n",
      "Selected functions:------\n",
      "k: exp(M),exp(R),log(z)\n",
      "c: linear(M),log(R),log(z)\n",
      "rms^2(bin) = 1.367\n",
      "rms^2(fit) = 0.059\n",
      "---> fit method selected\n",
      "----------------------------------\n"
     ]
    },
    {
     "name": "stderr",
     "output_type": "stream",
     "text": [
      "/usr/local/lib/python2.7/dist-packages/ipykernel/__main__.py:36: RuntimeWarning: invalid value encountered in true_divide\n"
     ]
    }
   ],
   "source": [
    "question_order = ['t10_arms_number']\n",
    "\n",
    "'''question_order = ['t00_smooth_or_features'\n",
    "                  ,'t01_disk_edge_on'\n",
    "                  ,'t07_rounded'\n",
    "                  ,'t02_bar'\n",
    "                  ,'t03_spiral'\n",
    "                  ,'t08_bulge_shape'\n",
    "                  ,'t04_bulge_prominence'\n",
    "                  ,'t09_arms_winding'\n",
    "                  ,'t10_arms_number'\n",
    "                  ,'t05_odd'\n",
    "                  ,'t06_odd_feature']'''\n",
    "\n",
    "for question in question_order:\n",
    "    answers = questions[question]['answers']\n",
    "    \n",
    "    for answer in answers:\n",
    "        \n",
    "        #bins_exist = os.path.isfile('output_files/'+ question + '/' + answer + '/bins.fits')\n",
    "        bins_exist = False\n",
    "        \n",
    "        print('----------------------------------')\n",
    "        print('Question to be debiased:',question)\n",
    "        print('Answer to be debiased:',answer)\n",
    "        \n",
    "        debiased = bin_and_debias(full_data,question,questions,answer,\n",
    "                                  bins_exist=bins_exist,n_per_bin=50,coarse=False) # Use smaller bins!\n",
    "        \n",
    "        deb_vals = choose_best_function(full_data,debiased,question,answer)\n",
    "        full_data[question + '_' + answer + '_debiased_rh'] = deb_vals\n",
    "        \n",
    "        print('----------------------------------')\n",
    "\n",
    "    debiased_values = np.array([full_data[question + '_' + a + '_debiased_rh'] for a in answers])\n",
    "    debiased_norm = debiased_values/np.sum(debiased_values,axis=0)\n",
    "    debiased_norm[np.isnan(debiased_norm)] = 0\n",
    "    for m in range(len(debiased_norm)):\n",
    "        full_data[question + '_' + answers[m] + '_debiased_rh_normalised'] = debiased_norm[m]\n"
   ]
  },
  {
   "cell_type": "code",
   "execution_count": 17,
   "metadata": {
    "collapsed": false
   },
   "outputs": [
    {
     "data": {
      "text/plain": [
       "'output_files/debiase_test_2_t10_arms_number.fits'"
      ]
     },
     "execution_count": 17,
     "metadata": {},
     "output_type": "execute_result"
    }
   ],
   "source": [
    "outname = 'output_files/debiase_test_2_'+question+'.fits'\n",
    "outname"
   ]
  },
  {
   "cell_type": "code",
   "execution_count": 18,
   "metadata": {
    "collapsed": false
   },
   "outputs": [],
   "source": [
    "full_data.write(outname)"
   ]
  },
  {
   "cell_type": "code",
   "execution_count": null,
   "metadata": {
    "collapsed": true
   },
   "outputs": [],
   "source": []
  }
 ],
 "metadata": {
  "kernelspec": {
   "display_name": "Python 2",
   "language": "python",
   "name": "python2"
  },
  "language_info": {
   "codemirror_mode": {
    "name": "ipython",
    "version": 2
   },
   "file_extension": ".py",
   "mimetype": "text/x-python",
   "name": "python",
   "nbconvert_exporter": "python",
   "pygments_lexer": "ipython2",
   "version": "2.7.6"
  }
 },
 "nbformat": 4,
 "nbformat_minor": 0
}
