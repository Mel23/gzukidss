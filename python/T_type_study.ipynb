{
 "cells": [
  {
   "cell_type": "markdown",
   "metadata": {},
   "source": [
    "## T-type Comparison Study using features, spiral arms, and bulge dominance as proxies for T-type. Limit to z < 0.06 to pretend that depth isn't a factor. "
   ]
  },
  {
   "cell_type": "code",
   "execution_count": 1,
   "metadata": {
    "collapsed": true
   },
   "outputs": [],
   "source": [
    "import numpy as np\n",
    "from astropy.table import Table,Column,join\n",
    "from astropy.io import fits\n",
    "import matplotlib.pyplot as plt\n",
    "import warnings\n",
    "%matplotlib inline\n",
    "from matplotlib.colors import LogNorm\n",
    "import matplotlib.gridspec as gridspec\n",
    "import Image\n",
    "import ImageOps\n",
    "from operator import itemgetter\n",
    "plt.rcParams['text.usetex']=True\n",
    "import urllib, cStringIO\n",
    "import random\n",
    "\n",
    "#function for getting galaxy images\n",
    "def optical_image(gal):\n",
    "    \n",
    "    pixelsize=0.396\n",
    "    height=500\n",
    "    width=500\n",
    "\n",
    "    scale=2.5*gal['PETROR90_R']/pixelsize/width\n",
    "    # form wurl to query SDSS web sevice to generate cutout image\n",
    "    cutOutImageUrl=\"http://skyservice.pha.jhu.edu/DR12/ImgCutout/getjpeg.aspx?ra=\" + str(gal['RA'])\n",
    "    cutOutImageUrl += \"&dec=\" + str(gal['DEC']) + \"&scale=\"\"\" + str(scale) + \"&width=\" + str(width)\n",
    "    cutOutImageUrl += \"&height=\" + str(height)\n",
    "    \n",
    "    file = cStringIO.StringIO(urllib.urlopen(cutOutImageUrl).read())\n",
    "    img = Image.open(file)    \n",
    "    return img\n",
    "\n",
    "def IR_image(gal):\n",
    "    \n",
    "    \n",
    "    file = cStringIO.StringIO(urllib.urlopen(gal['UKIDSS_url']).read())\n",
    "    img = Image.open(file)    \n",
    "    return img.crop((100, 100, 424-100, 424-100))\n"
   ]
  },
  {
   "cell_type": "code",
   "execution_count": 5,
   "metadata": {
    "collapsed": true
   },
   "outputs": [],
   "source": [
    "data = Table.read('/home/mel/Documents/gzukidss/data/ukidss_gz2_rh_debiased.fits')\n"
   ]
  },
  {
   "cell_type": "code",
   "execution_count": 3,
   "metadata": {
    "collapsed": true
   },
   "outputs": [],
   "source": [
    "\n",
    "u_dfeatures = 't00_smooth_or_features_a1_features_debiased_rh_ukidss'\n",
    "g_dfeatures = 't01_smooth_or_features_a02_features_or_disk_debiased_gz2'\n",
    "u_wfeatures = 't00_smooth_or_features_a1_features_weighted_fraction_ukidss'\n",
    "g_wfeatures = 't01_smooth_or_features_a02_features_or_disk_weighted_fraction_gz2'\n",
    "\n",
    "\n",
    "#spiral arm questions:\n",
    "u_spiral_arm_count = 't03_spiral_count_weighted_ukidss'\n",
    "g_spiral_arm_count = 't04_spiral_count_gz2'\n",
    "\n",
    "g_spiral_arm_yes_frac = 't04_spiral_a08_spiral_weighted_fraction_gz2'\n",
    "gd_spiral_arm_yes_frac = 't04_spiral_a08_spiral_debiased_gz2'\n",
    "u_spiral_arm_yes_frac = 't03_spiral_a0_spiral_weighted_fraction_ukidss'\n",
    "ud_spiral_arm_yes_frac = 't03_spiral_a0_spiral_debiased_rh_ukidss'\n",
    "\n",
    "u_arms_winding_count = 't09_arms_winding_count_weighted_ukidss'\n",
    "g_arms_winding_count = 't10_arms_winding_count_gz2'\n",
    "\n",
    "\n",
    "#ukidss arm winding tight fractions\n",
    "u_tight_arms = 't09_arms_winding_a0_tight_weighted_fraction_ukidss'\n",
    "ud_tight_arms = 't09_arms_winding_a0_tight_debiased_rh_ukidss'\n",
    "\n",
    "#gz2 arm winding tight fractions\n",
    "g_tight_arms = 't10_arms_winding_a28_tight_weighted_fraction_gz2'\n",
    "gd_tight_arms = 't10_arms_winding_a28_tight_debiased_gz2'\n",
    "\n",
    "\n",
    "#obvious bulge fractions\n",
    "u_obv_bulge = 't04_bulge_prominence_a2_obvious_weighted_fraction_ukidss'\n",
    "ud_obv_bulge = 't04_bulge_prominence_a2_obvious_debiased_rh_ukidss'\n",
    "g_obv_bulge = 't05_bulge_prominence_a12_obvious_weighted_fraction_gz2'\n",
    "gd_obv_bulge = 't05_bulge_prominence_a12_obvious_debiased_gz2'\n",
    "\n",
    "#dominant bulge fractions \n",
    "u_dom_bulge = 't04_bulge_prominence_a3_dominant_weighted_fraction_ukidss'\n",
    "ud_dom_bulge = 't04_bulge_prominence_a3_dominant_debiased_rh_ukidss'\n",
    "g_dom_bulge = 't05_bulge_prominence_a13_dominant_weighted_fraction_gz2'\n",
    "gd_dom_bulge = 't05_bulge_prominence_a13_dominant_debiased_gz2'"
   ]
  },
  {
   "cell_type": "code",
   "execution_count": 6,
   "metadata": {
    "collapsed": false
   },
   "outputs": [],
   "source": [
    "#redshift and mag cut\n",
    "data = data[(data['REDSHIFT']<0.06) & (data['PETROMAG_MR']<-20)]"
   ]
  },
  {
   "cell_type": "code",
   "execution_count": 15,
   "metadata": {
    "collapsed": false
   },
   "outputs": [
    {
     "data": {
      "image/png": "[encoded data removed]",
      "text/plain": [
       "<matplotlib.figure.Figure at 0x7f395c242190>"
      ]
     },
     "metadata": {},
     "output_type": "display_data"
    }
   ],
   "source": [
    "vmin = 0\n",
    "vmax = 0.1\n",
    "plt.rcParams['xtick.labelsize'] = 20\n",
    "plt.rcParams['ytick.labelsize'] = 20 \n",
    "\n",
    "cmap= plt.cm.ocean_r\n",
    "bin_range=((0,1),(-1,1))\n",
    "bins=(10,11)\n",
    "f=plt.figure(figsize=(9,6))\n",
    "ax=plt.subplot()\n",
    "nhist,xedges,yedges = np.histogram2d(data[g_dfeatures],data[g_dfeatures]-data[u_dfeatures],range=bin_range,bins=bins)\n",
    "hist=nhist/np.sum(nhist)\n",
    "\n",
    "#mask out impossible values (ie if gz2 = 1, gz2 - ukidss must be >0, etc. )\n",
    "mask_hist = np.zeros(shape=bins)\n",
    "\n",
    "\n",
    "for i,x in enumerate(xedges[:-1]):\n",
    "    for j,y in enumerate(yedges[:-1]):\n",
    "        if (x-y) <0 or (x-y) >1:\n",
    "            mask_hist[i,j]=1\n",
    "\n",
    "hist=np.ma.array(hist,mask=mask_hist>0)\n",
    "cmap= plt.cm.ocean_r\n",
    "cmap.set_bad('black')\n",
    "\n",
    "extent=[xedges[0], xedges[-1], yedges[0], yedges[-1]]\n",
    "plt.imshow(hist.T,origin='lower',extent=extent,interpolation='nearest',aspect='auto',cmap=cmap,vmin=vmin,vmax=vmax)\n",
    "plt.ylim(-1,1)\n",
    "ax.text(.05,.9,'more featured in optical',color='white',fontsize=15)\n",
    "ax.text(.95,-.9,'more featured in IR',color='white',fontsize=15,horizontalalignment='right')\n",
    "plt.axhline(y=0,ls='dashed')\n",
    "plt.ylabel('$\\mathrm{ GZ2~f_{features} - UKIDSS~f_{features}}$',fontsize=20)\n",
    "plt.xlabel('$\\mathrm{GZ2~f_{features}}$',fontsize=20)\n",
    "plt.colorbar()\n",
    "plt.savefig('figures/delta_features.pdf')"
   ]
  },
  {
   "cell_type": "markdown",
   "metadata": {},
   "source": [
    "# Next: Look at change in type of just spirals, defining spirals as at least 10 people answered \"yes\" to galaxy having spiral arms in optical and IR\n",
    "\n",
    "\n",
    "1) Spirals detected in both\n",
    "\n",
    "2) Spirals detected in optical but not IR\n",
    "\n",
    "3) Spirals detected in IR but not optical"
   ]
  },
  {
   "cell_type": "code",
   "execution_count": 44,
   "metadata": {
    "collapsed": false
   },
   "outputs": [],
   "source": [
    "#Spiral definition: At least 10 people answer question, and at least 40% detect spiral arms\n",
    "N_spiral = 10\n",
    "f_spiral = 0.4\n",
    "optical_spiral = (data[g_spiral_arm_count]>=N_spiral) & (data[gd_spiral_arm_yes_frac]>f_spiral)\n",
    "optical_not_spiral = (data[g_spiral_arm_count]<N_spiral) | (data[gd_spiral_arm_yes_frac]<f_spiral)\n",
    "IR_spiral = (data[u_spiral_arm_count]>=N_spiral) & (data[ud_spiral_arm_yes_frac]>f_spiral)\n",
    "IR_not_spiral = (data[u_spiral_arm_count]<N_spiral) | (data[ud_spiral_arm_yes_frac]<f_spiral)"
   ]
  },
  {
   "cell_type": "code",
   "execution_count": 45,
   "metadata": {
    "collapsed": false
   },
   "outputs": [
    {
     "name": "stdout",
     "output_type": "stream",
     "text": [
      "Total Galaxies with spiral arms in optical: 3767\n",
      "Total Galaxies with spiral arms in IR: 2395\n",
      "Galaxies with spiral arms in optical and IR: 2112\n",
      "Galaxies with spiral arms in optical and not IR: 1655\n",
      "Galaxies with spiral arms in IR and not optical: 283\n"
     ]
    }
   ],
   "source": [
    "print 'Total Galaxies with spiral arms in optical: {}'.format(len(data[optical_spiral]))\n",
    "print 'Total Galaxies with spiral arms in IR: {}'.format(len(data[IR_spiral]))\n",
    "print 'Galaxies with spiral arms in optical and IR: {}'.format(len(data[optical_spiral & IR_spiral]))\n",
    "print 'Galaxies with spiral arms in optical and not IR: {}'.format(len(data[optical_spiral & IR_not_spiral]))\n",
    "print 'Galaxies with spiral arms in IR and not optical: {}'.format(len(data[IR_spiral & optical_not_spiral]))"
   ]
  },
  {
   "cell_type": "markdown",
   "metadata": {},
   "source": [
    "# Galaxies which show some spiral structure in both wavelengths - how does the tightness and bulge dominance change?"
   ]
  },
  {
   "cell_type": "code",
   "execution_count": 46,
   "metadata": {
    "collapsed": false
   },
   "outputs": [
    {
     "data": {
      "image/png": "[encoded data removed]",
      "text/plain": [
       "<matplotlib.figure.Figure at 0x7f395b80ca50>"
      ]
     },
     "metadata": {},
     "output_type": "display_data"
    }
   ],
   "source": [
    "vmin = 0\n",
    "vmax = 0.07\n",
    "plt.rcParams['xtick.labelsize'] = 20\n",
    "plt.rcParams['ytick.labelsize'] = 20 \n",
    "\n",
    "spirals = data[optical_spiral & IR_spiral]\n",
    "\n",
    "cmap= plt.cm.ocean_r\n",
    "bins_range=((0,1),(-1,1))\n",
    "bins=(10,11)\n",
    "f=plt.figure(figsize=(18,6))\n",
    "gs = gridspec.GridSpec(1,2,width_ratios=[1,1.2])\n",
    "ax=plt.subplot(gs[0,0])\n",
    "nhist,xedges,yedges = np.histogram2d(spirals[gd_tight_arms],spirals[gd_tight_arms]-spirals[ud_tight_arms],range=bins_range,bins=bins)\n",
    "hist=nhist/np.sum(nhist)\n",
    "\n",
    "#mask out impossible values (ie if gz2 = 1, gz2 - ukidss must be >0, etc. )\n",
    "mask_hist = np.zeros(shape=bins)\n",
    "\n",
    "\n",
    "for i,x in enumerate(xedges[:-1]):\n",
    "    for j,y in enumerate(yedges[:-1]):\n",
    "        if (x-y) <0 or (x-y) >1:\n",
    "            mask_hist[i,j]=1\n",
    "\n",
    "hist=np.ma.array(hist,mask=mask_hist>0)\n",
    "cmap= plt.cm.ocean_r\n",
    "cmap.set_bad('black')\n",
    "\n",
    "\n",
    "extent=[xedges[0], xedges[-1], yedges[0], yedges[-1]]\n",
    "plt.imshow(hist.T,origin='lower',extent=extent,interpolation='nearest',aspect='auto',cmap=cmap,vmin=vmin,vmax=vmax)\n",
    "plt.ylim(-1,1)\n",
    "ax.text(.05,.9,'tighter arms in optical',color='white',fontsize=20)\n",
    "ax.text(.95,-.9,'tighter arms in IR',color='white',fontsize=20,horizontalalignment='right')\n",
    "plt.axhline(y=0,ls='dashed')\n",
    "plt.ylabel('$\\mathrm{ GZ2~f_{tight~arms} - UKIDSS~f_{tight~arms}}$',fontsize=20)\n",
    "plt.xlabel('$\\mathrm{GZ2~f_{tight~arms}}$',fontsize=20)\n",
    "\n",
    "ax=plt.subplot(gs[0,1])\n",
    "nhist,xedges,yedges = np.histogram2d(spirals[gd_obv_bulge]+spirals[gd_dom_bulge],(spirals[gd_obv_bulge]+spirals[gd_dom_bulge])-(spirals[u_obv_bulge]+spirals[u_dom_bulge]),range=range,bins=bins)\n",
    "hist=nhist/np.sum(nhist)\n",
    "\n",
    "hist=np.ma.array(hist,mask=mask_hist>0)\n",
    "cmap= plt.cm.ocean_r\n",
    "cmap.set_bad('black')\n",
    "\n",
    "\n",
    "\n",
    "extent=[xedges[0], xedges[-1], yedges[0], yedges[-1]]\n",
    "plt.imshow(hist.T,origin='lower',extent=extent,interpolation='nearest',aspect='auto',cmap=cmap,vmin=vmin,vmax=vmax)\n",
    "plt.ylim(-1,1)\n",
    "ax.text(.05,.9,'more prominent bulge in optical',color='white',fontsize=20)\n",
    "ax.text(.95,-.9,'more prominent bulge in IR',color='white',fontsize=20,horizontalalignment='right')\n",
    "plt.axhline(y=0,ls='dashed')\n",
    "plt.ylabel('$\\mathrm{ GZ2~f_{obv+dom~bulge} - UKIDSS~f_{obv+dom~bulge}}$',fontsize=20)\n",
    "plt.xlabel('$\\mathrm{GZ2~f_{obv+dom~bulge}}$',fontsize=20)\n",
    "plt.colorbar()\n",
    "\n",
    "f.text(.89,.5,'$\\mathrm{fraction}$',rotation=270,fontsize=20,verticalalignment='center')\n",
    "\n",
    "plt.savefig('figures/delta_tight_arms.pdf')"
   ]
  },
  {
   "cell_type": "code",
   "execution_count": null,
   "metadata": {
    "collapsed": false
   },
   "outputs": [],
   "source": [
    "optical_spiral_not_IR = optical_spiral & IR_not_spiral\n",
    "IR_spiral_not_optical = IR_spiral & optical_not_spiral\n",
    "\n",
    "gs=gridspec.GridSpec(25,4)\n",
    "gs.update(wspace=0)\n",
    "gs.update(hspace=0.01)\n",
    "\n",
    "#data_criteria= optical_spiral_not_IR\n",
    "data_criteria = IR_spiral_not_optical\n",
    "these_data=data[data_criteria]\n",
    "\n",
    "if len(these_data) < 20:\n",
    "    print 'try new values'\n",
    "\n",
    "#shuffle which galaxies get displayed     \n",
    "n_list=np.linspace(0,len(these_data)-1,len(these_data))\n",
    "#random.seed(3)\n",
    "random.shuffle(n_list)\n",
    "\n",
    "#how many galaxies to display?\n",
    "n_gals = 50\n",
    "random_n_list = n_list[0:n_gals]\n",
    "\n",
    "random_gal_list = []\n",
    "for n in random_n_list:\n",
    "    random_gal_list.append(these_data[int(n)])\n",
    "    \n",
    "labels = np.linspace(1,50,50)\n",
    "\n",
    "#now we have a random list of galaxies -sort by something\n",
    "indx = data.colnames.index(ud_spiral_arm_yes_frac)\n",
    "random_gal_list.sort(key=itemgetter(indx))\n",
    "\n",
    "f=plt.figure(figsize=(25,175))\n",
    "n=0\n",
    "for i in range(0,25):\n",
    "    gal = random_gal_list[n] # random galaxy from big list \n",
    "    \n",
    "    ax=plt.subplot(gs[i,0])#left-most is gz2 image\n",
    "    plt.imshow(optical_image(gal))\n",
    "    plt.tick_params(labelbottom='off',labelleft='off')\n",
    "\n",
    "    ax.annotate('$\\mathrm{N_{spiral}: %s}$'%round(gal[g_spiral_arm_count],0),fontsize=38,xy=(0.02,.97),\n",
    "        xycoords='axes fraction',verticalalignment='top',color='white')\n",
    "    ax.annotate('$\\mathrm{f_{spiral,yes}: %s}$'%round(gal[gd_spiral_arm_yes_frac],2),fontsize=38,xy=(0.02,.02),\n",
    "        xycoords='axes fraction',color='white')\n",
    "    \n",
    "    ax = plt.subplot(gs[i,1]) #right is ukidss image\n",
    "    plt.imshow(IR_image(gal))\n",
    "    plt.tick_params(labelbottom='off',labelleft='off')\n",
    "\n",
    "    ax.annotate('$\\mathrm{N_{spiral}: %s}$'%round(gal[u_spiral_arm_count],0),fontsize=38,xy=(0.02,.97),\n",
    "        xycoords='axes fraction',verticalalignment='top',color='white')\n",
    "    ax.annotate('$\\mathrm{f_{spiral,yes}: %s}$'%round(gal[ud_spiral_arm_yes_frac],2),fontsize=38,xy=(0.02,.02),\n",
    "        xycoords='axes fraction',color='white')\n",
    "    \n",
    "    #2nd column\n",
    "    gal = random_gal_list[n+1] # random galaxy from big list \n",
    "    \n",
    "    ax=plt.subplot(gs[i,2])#left-most is gz2 image\n",
    "    plt.imshow(optical_image(gal))\n",
    "    plt.tick_params(labelbottom='off',labelleft='off')\n",
    "    plt.axvline(x=0,c='w',lw=3)\n",
    "    ax.annotate('$\\mathrm{N_{spiral}: %s}$'%round(gal[g_spiral_arm_count],0),fontsize=38,xy=(0.02,.97),\n",
    "        xycoords='axes fraction',verticalalignment='top',color='white')\n",
    "    ax.annotate('$\\mathrm{f_{spiral,yes}: %s}$'%round(gal[gd_spiral_arm_yes_frac],2),fontsize=38,xy=(0.02,.02),\n",
    "        xycoords='axes fraction',color='white')\n",
    "    \n",
    "    ax = plt.subplot(gs[i,3]) #right is ukidss image\n",
    "    plt.imshow(IR_image(gal))\n",
    "    plt.tick_params(labelbottom='off',labelleft='off')\n",
    "    \n",
    "    ax.annotate('$\\mathrm{N_{spiral}: %s}$'%round(gal[u_spiral_arm_count],0),fontsize=38,xy=(0.02,.97),\n",
    "        xycoords='axes fraction',verticalalignment='top',color='white')\n",
    "    ax.annotate('$\\mathrm{f_{spiral,yes}: %s}$'%round(gal[ud_spiral_arm_yes_frac],2),fontsize=38,xy=(0.02,.02),\n",
    "        xycoords='axes fraction',color='white')\n",
    "    \n",
    "    n+=2\n",
    "        \n",
    "f.text(.5,.92,'Spirals in IR but not optical', fontsize=40,ha='center')\n",
    "\n",
    "plt.savefig('figures/IR_spiral_not_optical.pdf')\n"
   ]
  },
  {
   "cell_type": "code",
   "execution_count": null,
   "metadata": {
    "collapsed": false
   },
   "outputs": [],
   "source": []
  },
  {
   "cell_type": "code",
   "execution_count": null,
   "metadata": {
    "collapsed": false
   },
   "outputs": [],
   "source": []
  },
  {
   "cell_type": "code",
   "execution_count": null,
   "metadata": {
    "collapsed": true
   },
   "outputs": [],
   "source": []
  }
 ],
 "metadata": {
  "kernelspec": {
   "display_name": "Python 2",
   "language": "python",
   "name": "python2"
  },
  "language_info": {
   "codemirror_mode": {
    "name": "ipython",
    "version": 2
   },
   "file_extension": ".py",
   "mimetype": "text/x-python",
   "name": "python",
   "nbconvert_exporter": "python",
   "pygments_lexer": "ipython2",
   "version": "2.7.6"
  }
 },
 "nbformat": 4,
 "nbformat_minor": 0
}
